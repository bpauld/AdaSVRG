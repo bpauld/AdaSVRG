{
 "cells": [
  {
   "cell_type": "code",
   "execution_count": 19,
   "metadata": {},
   "outputs": [
    {
     "name": "stdout",
     "output_type": "stream",
     "text": [
      "The autoreload extension is already loaded. To reload it, use:\n",
      "  %reload_ext autoreload\n"
     ]
    }
   ],
   "source": [
    "%load_ext autoreload\n",
    "%autoreload 2"
   ]
  },
  {
   "cell_type": "code",
   "execution_count": 20,
   "metadata": {},
   "outputs": [],
   "source": [
    "from dependencies import *\n",
    "\n",
    "from experiments import run_experiment\n",
    "from objectives import *\n",
    "from datasets import *\n",
    "from utils import *\n",
    "from plotting import *"
   ]
  },
  {
   "cell_type": "code",
   "execution_count": 21,
   "metadata": {},
   "outputs": [],
   "source": [
    "# dataset options\n",
    "dataset_num = 6\n",
    "data_dir = './'\n",
    "\n",
    "is_subsample = 0\n",
    "is_kernelize = 0\n",
    "subsampled_n = -1\n",
    "\n",
    "# set the seed for reproducibility\n",
    "np.random.seed(6162647)"
   ]
  },
  {
   "cell_type": "code",
   "execution_count": 22,
   "metadata": {},
   "outputs": [],
   "source": [
    "# optimization options\n",
    "max_epochs = 20\n",
    "num_restarts = 1\n",
    "batch_size = 100\n",
    "verbose = True"
   ]
  },
  {
   "cell_type": "code",
   "execution_count": 23,
   "metadata": {},
   "outputs": [],
   "source": [
    "# choose experiment\n",
    "exp_num = 5"
   ]
  },
  {
   "cell_type": "code",
   "execution_count": 24,
   "metadata": {},
   "outputs": [
    {
     "name": "stdout",
     "output_type": "stream",
     "text": [
      "Loaded  ijcnn  dataset.\n"
     ]
    }
   ],
   "source": [
    "# problem size when generating synthetic data\n",
    "if dataset_num == -1:\n",
    "    n, d = 10000, 20\n",
    "    false_ratio = 0.25\n",
    "    margin = 1e-6\n",
    "    print(is_kernelize)\n",
    "    A, y, A_test, y_test = data_load(data_dir, dataset_num,n, d, margin, false_ratio)\n",
    "else:\n",
    "    if is_subsample == 1:\n",
    "        n = subsampled_n\n",
    "    else:\n",
    "        n = 0\n",
    "    if is_kernelize == 1:\n",
    "        d = n\n",
    "    else:\n",
    "        d = 0\n",
    "    false_ratio = 0\n",
    "    \n",
    "    A, y, A_test, y_test = data_load(data_dir, dataset_num, n,d, false_ratio, is_subsample, is_kernelize)\n",
    "    \n",
    "    if n == 0:\n",
    "        n = A.shape[0]\n",
    "    \n",
    "    \n",
    "#define the regularized losses we will use\n",
    "logistic_closure_l2 = make_closure(logistic_loss, 1/n)\n",
    "squared_hinge_closure_l2 = make_closure(squared_hinge_loss, 1/n)\n",
    "squared_closure_l2 = make_closure(squared_loss, 1/n)"
   ]
  },
  {
   "cell_type": "code",
   "execution_count": 25,
   "metadata": {
    "scrolled": true
   },
   "outputs": [],
   "source": [
    "if exp_num == 0:\n",
    "    print('Testing SVRG-BB:')\n",
    "    init_eta = 1e-3\n",
    "    \n",
    "    num_variants = 1\n",
    "    \n",
    "    results_mean = np.zeros((num_variants, max_epochs))\n",
    "    results_std = np.zeros((num_variants, max_epochs))\n",
    "\n",
    "    results2_mean = np.zeros((num_variants, max_epochs))\n",
    "    results2_std = np.zeros((num_variants, max_epochs))\n",
    "    \n",
    "    x_mean, results_mean[0, :], results_std[0, :], results2_mean[0, :], results2_std[0, :] = run_experiment(svrg_bb, logistic_closure_no_l2, A, y, A_test, y_test, init_eta, batch_size, max_epochs, num_restarts, verbose=verbose)"
   ]
  },
  {
   "cell_type": "code",
   "execution_count": 26,
   "metadata": {},
   "outputs": [],
   "source": [
    "if exp_num == 1:\n",
    "    print('Testing robustness to step-size for SVRG:')    \n",
    "    count = 0\n",
    "    labels = []\n",
    "    step_sizes = [1e-4, 1e-3, 1e-2, 1e-1, 1, 10, 100]\n",
    "    colors = ['r', 'b', 'g','k','cyan','lightgreen','gray']\n",
    "\n",
    "    num_variants = len(step_sizes)\n",
    "\n",
    "    results_mean = np.zeros((num_variants, max_epochs))\n",
    "    results_std = np.zeros((num_variants, max_epochs))\n",
    "\n",
    "    results2_mean = np.zeros((num_variants, max_epochs))\n",
    "    results2_std = np.zeros((num_variants, max_epochs))\n",
    "\n",
    "    for init_eta in step_sizes: \n",
    "        print('Begin to run SVRG with step-size = :', init_eta)\n",
    "        x_mean, results_mean[count, :], results_std[count, :], results2_mean[count, :], results2_std[count, :] =\\\n",
    "        run_experiment(method_name = 'svrg', closure = logistic_closure_l2, \\\n",
    "                       X = A, y = y, X_test = A_test, y_test = y_test, \\\n",
    "                       init_step_size = init_eta, batch_size = batch_size, max_epochs = max_epochs, \\\n",
    "                       m =0, num_restarts = num_restarts, verbose=verbose)\n",
    "        count = count + 1\n",
    "        labels.append(str(init_eta))\n",
    "    "
   ]
  },
  {
   "cell_type": "code",
   "execution_count": 27,
   "metadata": {},
   "outputs": [],
   "source": [
    "if exp_num == 2:\n",
    "    print('Testing robustness to size of inner loop for SVRG:')   \n",
    "\n",
    "    count = 0\n",
    "    labels = []\n",
    "    init_eta = 1e-2\n",
    "    inner_loop_list = [0.5 , 1, 2, 5, 10]\n",
    "\n",
    "    colors = ['r', 'b', 'g','k','cyan','lightgreen','gray']\n",
    "\n",
    "    num_variants = len(inner_loop_list)\n",
    "\n",
    "\n",
    "    results_mean = np.zeros((num_variants, max_epochs))\n",
    "    results_std = np.zeros((num_variants, max_epochs))\n",
    "\n",
    "    results2_mean = np.zeros((num_variants, max_epochs))\n",
    "    results2_std = np.zeros((num_variants, max_epochs))\n",
    "\n",
    "    for inner_loop in inner_loop_list: \n",
    "        print('Begin to run SVRG with inner loop size = :', inner_loop)\n",
    "\n",
    "        m = int(inner_loop * n)\n",
    "\n",
    "        x_mean, results_mean[count, :], results_std[count, :], results2_mean[count, :], results2_std[count, :] =\\\n",
    "        run_experiment(method_name = \"svrg\", closure = logistic_closure_l2, \\\n",
    "                       X = A, y = y, X_test = A_test, y_test = y_test, \\\n",
    "                       init_step_size = init_eta, batch_size = batch_size, max_epochs = max_epochs, \\\n",
    "                       m = m, num_restarts = num_restarts, verbose=verbose)\n",
    "        count = count + 1\n",
    "        labels.append(str(inner_loop))"
   ]
  },
  {
   "cell_type": "code",
   "execution_count": 28,
   "metadata": {},
   "outputs": [],
   "source": [
    "if exp_num == 3:\n",
    "    \n",
    "    labels = []\n",
    "    colors = ['r', 'b', 'g','k','cyan','lightgreen','gray']\n",
    "\n",
    "    step_sizes = [1e-3]\n",
    "        \n",
    "    num_variants = len(step_sizes)\n",
    "\n",
    "    grad_evals = np.zeros((num_variants, max_epochs))    \n",
    "    \n",
    "    results_mean = np.zeros((num_variants, max_epochs))\n",
    "    results_std = np.zeros((num_variants, max_epochs))\n",
    "\n",
    "    results2_mean = np.zeros((num_variants, max_epochs))\n",
    "    results2_std = np.zeros((num_variants, max_epochs))     \n",
    "        \n",
    "    for init_eta in step_sizes:     \n",
    "  \n",
    "        print('Testing SVRG-Ada with step-size:', init_eta)\n",
    "    \n",
    "        x_mean, grad_evals[0,:], results_mean[0, :], results_std[0, :], results2_mean[0, :], results2_std[0, :] =\\\n",
    "        run_experiment(method_name = \"svrg_ada\", closure = squared_closure_l2, \\\n",
    "                           X = A, y = y, X_test = A_test, y_test = y_test, \\\n",
    "                           init_step_size = init_eta, batch_size = batch_size, max_epochs = max_epochs, \\\n",
    "                           m = int(n / batch_size), num_restarts = num_restarts, verbose=verbose, linesearch_option = 0, max_sgd_warmup_epochs = 0, adaptive_termination = False) \n",
    "    \n",
    "        labels.append(['SVRG-Ada-', str(init_eta)])\n"
   ]
  },
  {
   "cell_type": "code",
   "execution_count": 29,
   "metadata": {},
   "outputs": [],
   "source": [
    "if exp_num == 4:\n",
    "    print('Testing SVRG vs SVRG-Ada vs SVRG-BB wrt step-size robustness:')\n",
    "\n",
    "    count = 0\n",
    "    labels = []\n",
    "    step_sizes = [1]\n",
    "    colors = ['r', 'b', 'g','r','b','g','r', 'b', 'g']\n",
    "\n",
    "    num_variants = 3 * len(step_sizes)\n",
    "    \n",
    "    grad_evals = np.zeros((num_variants, max_epochs))\n",
    "    \n",
    "    results_mean = np.zeros((num_variants, max_epochs))\n",
    "    results_std = np.zeros((num_variants, max_epochs))\n",
    "\n",
    "    results2_mean = np.zeros((num_variants, max_epochs))\n",
    "    results2_std = np.zeros((num_variants, max_epochs))\n",
    "    \n",
    "    closure = logistic_closure_l2\n",
    "\n",
    "    for init_eta in step_sizes: \n",
    "#         print('Begin to run SVRG with step-size = :', init_eta)\n",
    "\n",
    "#         # SVRG\n",
    "#         x_mean, grad_evals[count,:], results_mean[count, :], results_std[count, :], results2_mean[count, :], results2_std[count, :] =\\\n",
    "#         run_experiment(method_name = \"svrg\", closure = closure, \\\n",
    "#                        X = A, y = y, X_test = A_test, y_test = y_test, \\\n",
    "#                        init_step_size = init_eta, batch_size = batch_size, max_epochs = max_epochs, \\\n",
    "#                        m = int(n / batch_size), num_restarts = num_restarts, verbose=verbose, adaptive_termination = False)\n",
    "#         count = count + 1\n",
    "#         labels.append(str(init_eta))\n",
    "        \n",
    "#         print('Begin to run SVRG BB with step-size = :', init_eta)        \n",
    "#         # SVRG BB\n",
    "#         x_mean, grad_evals[count,:], results_mean[count, :], results_std[count, :], results2_mean[count, :], results2_std[count, :] =\\\n",
    "#         run_experiment(method_name = \"svrg_bb\", closure = closure, \\\n",
    "#                        X = A, y = y, X_test = A_test, y_test = y_test, \\\n",
    "#                        init_step_size = init_eta, batch_size = batch_size, max_epochs = max_epochs, \\\n",
    "#                        m = int(n / batch_size), num_restarts = num_restarts, verbose=verbose, adaptive_termination = False)\n",
    "#         count = count + 1\n",
    "#         labels.append('BB' + str(init_eta))\n",
    "        \n",
    "        print('Begin to run SVRG Ada with step-size = :', init_eta)\n",
    "        # Ada SVRG\n",
    "        x_mean, grad_evals[count,:], results_mean[count, :], results_std[count, :], results2_mean[count, :], results2_std[count, :] =\\\n",
    "        run_experiment(method_name = \"svrg_ada\", closure = closure, \\\n",
    "                       X = A, y = y, X_test = A_test, y_test = y_test, \\\n",
    "                       init_step_size = init_eta, batch_size = batch_size, max_epochs = max_epochs, \\\n",
    "                       m = int(n / 2 * batch_size), num_restarts = num_restarts, verbose=verbose, linesearch_option = 0, \n",
    "                       max_sgd_warmup_epochs = 0, adaptive_termination = False)\n",
    "        count = count + 1\n",
    "        labels.append('Ada' + str(init_eta))\n",
    "    "
   ]
  },
  {
   "cell_type": "code",
   "execution_count": 30,
   "metadata": {},
   "outputs": [
    {
     "name": "stdout",
     "output_type": "stream",
     "text": [
      "Testing SVRG vs SVRG with diagnostic\n",
      "Begin to run SVRG with step-size = : 0.1\n",
      "Running Experiment:\n",
      "Epoch.: 0, Grad. norm: 1.60e-01, Func. value: 6.931472e-01, Num gradient evaluations: 0\n",
      "Epoch.: 1, Grad. norm: 6.11e-02, Func. value: 3.917728e-01, Num gradient evaluations: 56000\n",
      "Epoch.: 2, Grad. norm: 3.20e-02, Func. value: 3.354554e-01, Num gradient evaluations: 112000\n",
      "Epoch.: 3, Grad. norm: 2.08e-02, Func. value: 3.167600e-01, Num gradient evaluations: 168000\n",
      "Epoch.: 4, Grad. norm: 1.58e-02, Func. value: 3.076377e-01, Num gradient evaluations: 224000\n",
      "Epoch.: 5, Grad. norm: 1.35e-02, Func. value: 3.017407e-01, Num gradient evaluations: 280000\n",
      "Epoch.: 6, Grad. norm: 1.23e-02, Func. value: 2.971558e-01, Num gradient evaluations: 336000\n",
      "Epoch.: 7, Grad. norm: 1.16e-02, Func. value: 2.932050e-01, Num gradient evaluations: 392000\n",
      "Epoch.: 8, Grad. norm: 1.11e-02, Func. value: 2.896193e-01, Num gradient evaluations: 448000\n",
      "Epoch.: 9, Grad. norm: 1.07e-02, Func. value: 2.862835e-01, Num gradient evaluations: 504000\n"
     ]
    },
    {
     "ename": "KeyboardInterrupt",
     "evalue": "",
     "output_type": "error",
     "traceback": [
      "\u001b[0;31m---------------------------------------------------------------------------\u001b[0m",
      "\u001b[0;31mKeyboardInterrupt\u001b[0m                         Traceback (most recent call last)",
      "\u001b[0;32m<ipython-input-30-7c8aaf0e0e79>\u001b[0m in \u001b[0;36m<module>\u001b[0;34m\u001b[0m\n\u001b[1;32m     27\u001b[0m                        \u001b[0mX\u001b[0m \u001b[0;34m=\u001b[0m \u001b[0mA\u001b[0m\u001b[0;34m,\u001b[0m \u001b[0my\u001b[0m \u001b[0;34m=\u001b[0m \u001b[0my\u001b[0m\u001b[0;34m,\u001b[0m \u001b[0mX_test\u001b[0m \u001b[0;34m=\u001b[0m \u001b[0mA_test\u001b[0m\u001b[0;34m,\u001b[0m \u001b[0my_test\u001b[0m \u001b[0;34m=\u001b[0m \u001b[0my_test\u001b[0m\u001b[0;34m,\u001b[0m\u001b[0;31m \u001b[0m\u001b[0;31m\\\u001b[0m\u001b[0;34m\u001b[0m\u001b[0;34m\u001b[0m\u001b[0m\n\u001b[1;32m     28\u001b[0m                        \u001b[0minit_step_size\u001b[0m \u001b[0;34m=\u001b[0m \u001b[0minit_eta\u001b[0m\u001b[0;34m,\u001b[0m \u001b[0mbatch_size\u001b[0m \u001b[0;34m=\u001b[0m \u001b[0mbatch_size\u001b[0m\u001b[0;34m,\u001b[0m \u001b[0mmax_epochs\u001b[0m \u001b[0;34m=\u001b[0m \u001b[0mmax_epochs\u001b[0m\u001b[0;34m,\u001b[0m\u001b[0;31m \u001b[0m\u001b[0;31m\\\u001b[0m\u001b[0;34m\u001b[0m\u001b[0;34m\u001b[0m\u001b[0m\n\u001b[0;32m---> 29\u001b[0;31m                        m = int(n / batch_size), num_restarts = num_restarts, verbose=verbose, adaptive_termination = False)\n\u001b[0m\u001b[1;32m     30\u001b[0m         \u001b[0mcount\u001b[0m \u001b[0;34m=\u001b[0m \u001b[0mcount\u001b[0m \u001b[0;34m+\u001b[0m \u001b[0;36m1\u001b[0m\u001b[0;34m\u001b[0m\u001b[0;34m\u001b[0m\u001b[0m\n\u001b[1;32m     31\u001b[0m         \u001b[0mlabels\u001b[0m\u001b[0;34m.\u001b[0m\u001b[0mappend\u001b[0m\u001b[0;34m(\u001b[0m\u001b[0mstr\u001b[0m\u001b[0;34m(\u001b[0m\u001b[0minit_eta\u001b[0m\u001b[0;34m)\u001b[0m\u001b[0;34m)\u001b[0m\u001b[0;34m\u001b[0m\u001b[0;34m\u001b[0m\u001b[0m\n",
      "\u001b[0;32m~/Dropbox/Codes/svrg/svrg/numpy_code/experiments.py\u001b[0m in \u001b[0;36mrun_experiment\u001b[0;34m(method_name, closure, X, y, X_test, y_test, batch_size, max_epochs, m, num_restarts, verbose, seed, **kwargs)\u001b[0m\n\u001b[1;32m     53\u001b[0m                                                \u001b[0mm\u001b[0m\u001b[0;34m=\u001b[0m\u001b[0mm\u001b[0m\u001b[0;34m,\u001b[0m\u001b[0;34m\u001b[0m\u001b[0;34m\u001b[0m\u001b[0m\n\u001b[1;32m     54\u001b[0m                                                \u001b[0mverbose\u001b[0m\u001b[0;34m=\u001b[0m\u001b[0mverbose\u001b[0m\u001b[0;34m,\u001b[0m\u001b[0;34m\u001b[0m\u001b[0;34m\u001b[0m\u001b[0m\n\u001b[0;32m---> 55\u001b[0;31m                                                adaptive_termination = adaptive_termination)\n\u001b[0m\u001b[1;32m     56\u001b[0m \u001b[0;34m\u001b[0m\u001b[0m\n\u001b[1;32m     57\u001b[0m     \u001b[0;32melif\u001b[0m \u001b[0mmethod_name\u001b[0m \u001b[0;34m==\u001b[0m \u001b[0;34m\"svrg_bb\"\u001b[0m\u001b[0;34m:\u001b[0m\u001b[0;34m\u001b[0m\u001b[0;34m\u001b[0m\u001b[0m\n",
      "\u001b[0;32m~/Dropbox/Codes/svrg/svrg/numpy_code/optimizers/svrg.py\u001b[0m in \u001b[0;36msvrg\u001b[0;34m(closure, batch_size, D, labels, init_step_size, n, d, max_epoch, m, x0, verbose, adaptive_termination)\u001b[0m\n\u001b[1;32m     84\u001b[0m             \u001b[0;31m# compute the gradients:\u001b[0m\u001b[0;34m\u001b[0m\u001b[0;34m\u001b[0m\u001b[0;34m\u001b[0m\u001b[0m\n\u001b[1;32m     85\u001b[0m             \u001b[0mx_grad\u001b[0m \u001b[0;34m=\u001b[0m \u001b[0mclosure\u001b[0m\u001b[0;34m(\u001b[0m\u001b[0mx\u001b[0m\u001b[0;34m,\u001b[0m \u001b[0mDi\u001b[0m\u001b[0;34m,\u001b[0m \u001b[0mlabels_i\u001b[0m\u001b[0;34m)\u001b[0m\u001b[0;34m[\u001b[0m\u001b[0;36m1\u001b[0m\u001b[0;34m]\u001b[0m\u001b[0;34m\u001b[0m\u001b[0;34m\u001b[0m\u001b[0m\n\u001b[0;32m---> 86\u001b[0;31m             \u001b[0mx_tilde_grad\u001b[0m \u001b[0;34m=\u001b[0m \u001b[0mclosure\u001b[0m\u001b[0;34m(\u001b[0m\u001b[0mx_tilde\u001b[0m\u001b[0;34m,\u001b[0m \u001b[0mDi\u001b[0m\u001b[0;34m,\u001b[0m \u001b[0mlabels_i\u001b[0m\u001b[0;34m)\u001b[0m\u001b[0;34m[\u001b[0m\u001b[0;36m1\u001b[0m\u001b[0;34m]\u001b[0m\u001b[0;34m\u001b[0m\u001b[0;34m\u001b[0m\u001b[0m\n\u001b[0m\u001b[1;32m     87\u001b[0m             \u001b[0mgk\u001b[0m  \u001b[0;34m=\u001b[0m \u001b[0mx_grad\u001b[0m \u001b[0;34m-\u001b[0m \u001b[0mx_tilde_grad\u001b[0m \u001b[0;34m+\u001b[0m \u001b[0mfull_grad\u001b[0m\u001b[0;34m\u001b[0m\u001b[0;34m\u001b[0m\u001b[0m\n\u001b[1;32m     88\u001b[0m             \u001b[0mnum_grad_evals\u001b[0m \u001b[0;34m=\u001b[0m \u001b[0mnum_grad_evals\u001b[0m \u001b[0;34m+\u001b[0m \u001b[0mbatch_size\u001b[0m\u001b[0;34m\u001b[0m\u001b[0;34m\u001b[0m\u001b[0m\n",
      "\u001b[0;32m~/Dropbox/Codes/svrg/svrg/numpy_code/objectives.py\u001b[0m in \u001b[0;36mclosure\u001b[0;34m(w, X, y, backwards)\u001b[0m\n\u001b[1;32m     24\u001b[0m \u001b[0;34m\u001b[0m\u001b[0m\n\u001b[1;32m     25\u001b[0m         \u001b[0;31m# Compute the loss.\u001b[0m\u001b[0;34m\u001b[0m\u001b[0;34m\u001b[0m\u001b[0;34m\u001b[0m\u001b[0m\n\u001b[0;32m---> 26\u001b[0;31m         \u001b[0mloss\u001b[0m \u001b[0;34m=\u001b[0m \u001b[0mloss_fn\u001b[0m\u001b[0;34m(\u001b[0m\u001b[0mw\u001b[0m\u001b[0;34m,\u001b[0m \u001b[0mX\u001b[0m\u001b[0;34m,\u001b[0m \u001b[0my\u001b[0m\u001b[0;34m)\u001b[0m \u001b[0;34m+\u001b[0m \u001b[0;34m(\u001b[0m\u001b[0mprior_prec\u001b[0m \u001b[0;34m/\u001b[0m \u001b[0;36m2\u001b[0m\u001b[0;34m)\u001b[0m \u001b[0;34m*\u001b[0m \u001b[0mtorch\u001b[0m\u001b[0;34m.\u001b[0m\u001b[0msum\u001b[0m\u001b[0;34m(\u001b[0m\u001b[0mw\u001b[0m \u001b[0;34m**\u001b[0m \u001b[0;36m2\u001b[0m\u001b[0;34m)\u001b[0m\u001b[0;34m\u001b[0m\u001b[0;34m\u001b[0m\u001b[0m\n\u001b[0m\u001b[1;32m     27\u001b[0m \u001b[0;34m\u001b[0m\u001b[0m\n\u001b[1;32m     28\u001b[0m         \u001b[0;32mif\u001b[0m \u001b[0mbackwards\u001b[0m\u001b[0;34m:\u001b[0m\u001b[0;34m\u001b[0m\u001b[0;34m\u001b[0m\u001b[0m\n",
      "\u001b[0;32m~/Dropbox/Codes/svrg/svrg/numpy_code/objectives.py\u001b[0m in \u001b[0;36mlogistic_loss\u001b[0;34m(w, X, y)\u001b[0m\n\u001b[1;32m     46\u001b[0m     \u001b[0;34m''' Logistic Loss'''\u001b[0m\u001b[0;34m\u001b[0m\u001b[0;34m\u001b[0m\u001b[0m\n\u001b[1;32m     47\u001b[0m     \u001b[0mn\u001b[0m\u001b[0;34m,\u001b[0m\u001b[0md\u001b[0m \u001b[0;34m=\u001b[0m \u001b[0mX\u001b[0m\u001b[0;34m.\u001b[0m\u001b[0mshape\u001b[0m\u001b[0;34m\u001b[0m\u001b[0;34m\u001b[0m\u001b[0m\n\u001b[0;32m---> 48\u001b[0;31m     \u001b[0;32mreturn\u001b[0m \u001b[0mtorch\u001b[0m\u001b[0;34m.\u001b[0m\u001b[0mmean\u001b[0m\u001b[0;34m(\u001b[0m\u001b[0mtorch\u001b[0m\u001b[0;34m.\u001b[0m\u001b[0mlog\u001b[0m\u001b[0;34m(\u001b[0m\u001b[0;36m1\u001b[0m \u001b[0;34m+\u001b[0m \u001b[0mtorch\u001b[0m\u001b[0;34m.\u001b[0m\u001b[0mexp\u001b[0m\u001b[0;34m(\u001b[0m\u001b[0;34m-\u001b[0m\u001b[0mtorch\u001b[0m\u001b[0;34m.\u001b[0m\u001b[0mmul\u001b[0m\u001b[0;34m(\u001b[0m\u001b[0my\u001b[0m\u001b[0;34m,\u001b[0m \u001b[0mtorch\u001b[0m\u001b[0;34m.\u001b[0m\u001b[0mmatmul\u001b[0m\u001b[0;34m(\u001b[0m\u001b[0mX\u001b[0m\u001b[0;34m,\u001b[0m \u001b[0mw\u001b[0m\u001b[0;34m)\u001b[0m\u001b[0;34m)\u001b[0m\u001b[0;34m)\u001b[0m\u001b[0;34m)\u001b[0m\u001b[0;34m)\u001b[0m\u001b[0;34m\u001b[0m\u001b[0;34m\u001b[0m\u001b[0m\n\u001b[0m\u001b[1;32m     49\u001b[0m \u001b[0;34m\u001b[0m\u001b[0m\n\u001b[1;32m     50\u001b[0m \u001b[0;32mdef\u001b[0m \u001b[0msquared_hinge_loss\u001b[0m\u001b[0;34m(\u001b[0m\u001b[0mw\u001b[0m\u001b[0;34m,\u001b[0m \u001b[0mX\u001b[0m\u001b[0;34m,\u001b[0m \u001b[0my\u001b[0m\u001b[0;34m)\u001b[0m\u001b[0;34m:\u001b[0m\u001b[0;34m\u001b[0m\u001b[0;34m\u001b[0m\u001b[0m\n",
      "\u001b[0;31mKeyboardInterrupt\u001b[0m: "
     ]
    }
   ],
   "source": [
    "if exp_num == 5:\n",
    "    print('Testing SVRG vs SVRG with diagnostic')\n",
    "\n",
    "    count = 0\n",
    "    labels = []\n",
    "    step_sizes = [1e-1]\n",
    "    colors = ['r', 'b', 'g','r','b','g','r', 'b', 'g']\n",
    "\n",
    "    num_variants = 3 * len(step_sizes)\n",
    "    \n",
    "    grad_evals = np.zeros((num_variants, max_epochs))\n",
    "    \n",
    "    results_mean = np.zeros((num_variants, max_epochs))\n",
    "    results_std = np.zeros((num_variants, max_epochs))\n",
    "\n",
    "    results2_mean = np.zeros((num_variants, max_epochs))\n",
    "    results2_std = np.zeros((num_variants, max_epochs))\n",
    "    \n",
    "    closure = logistic_closure_l2\n",
    "\n",
    "    for init_eta in step_sizes: \n",
    "        print('Begin to run SVRG with step-size = :', init_eta)\n",
    "\n",
    "        # SVRG\n",
    "        x_mean, grad_evals[count,:], results_mean[count, :], results_std[count, :], results2_mean[count, :], results2_std[count, :] =\\\n",
    "        run_experiment(method_name = \"svrg\", closure = closure, \\\n",
    "                       X = A, y = y, X_test = A_test, y_test = y_test, \\\n",
    "                       init_step_size = init_eta, batch_size = batch_size, max_epochs = max_epochs, \\\n",
    "                       m = int(n / batch_size), num_restarts = num_restarts, verbose=verbose, adaptive_termination = False)\n",
    "        count = count + 1\n",
    "        labels.append(str(init_eta))\n",
    "        \n",
    "        print('Begin to run SVRG with step-size = :', init_eta)\n",
    "\n",
    "        # SVRG\n",
    "        x_mean, grad_evals[count,:], results_mean[count, :], results_std[count, :], results2_mean[count, :], results2_std[count, :] =\\\n",
    "        run_experiment(method_name = \"svrg\", closure = closure, \\\n",
    "                       X = A, y = y, X_test = A_test, y_test = y_test, \\\n",
    "                       init_step_size = init_eta, batch_size = batch_size, max_epochs = max_epochs, \\\n",
    "                       m = int(n / batch_size), num_restarts = num_restarts, verbose=verbose, adaptive_termination = True)\n",
    "        count = count + 1\n",
    "        labels.append('Diagnostic_' + str(init_eta))\n",
    "    "
   ]
  },
  {
   "cell_type": "code",
   "execution_count": null,
   "metadata": {},
   "outputs": [],
   "source": [
    "colors = ['r', 'b', 'g','r','b','g','r', 'b', 'g']\n",
    "fig = plot_shaded_error_bars(grad_evals = grad_evals, results_mean = results_mean, results_std = results_std, ylabel = 'Loss', max_epochs = max_epochs, colors = colors, labels = labels)\n",
    "plt.show()\n",
    "\n",
    "fig = plot_shaded_error_bars(grad_evals = grad_evals, results_mean = results2_mean, results_std = results2_std, ylabel = 'Grad_norm', max_epochs = max_epochs, colors = colors, labels = labels)\n",
    "plt.show()\n",
    "\n",
    "\n"
   ]
  }
 ],
 "metadata": {
  "kernelspec": {
   "display_name": "Python 3",
   "language": "python",
   "name": "python3"
  },
  "language_info": {
   "codemirror_mode": {
    "name": "ipython",
    "version": 3
   },
   "file_extension": ".py",
   "mimetype": "text/x-python",
   "name": "python",
   "nbconvert_exporter": "python",
   "pygments_lexer": "ipython3",
   "version": "3.7.5"
  }
 },
 "nbformat": 4,
 "nbformat_minor": 4
}
