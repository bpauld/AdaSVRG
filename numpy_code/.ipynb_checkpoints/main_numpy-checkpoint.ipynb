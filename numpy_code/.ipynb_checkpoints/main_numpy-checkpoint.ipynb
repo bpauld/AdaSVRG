{
 "cells": [
  {
   "cell_type": "code",
   "execution_count": 8,
   "metadata": {},
   "outputs": [
    {
     "name": "stdout",
     "output_type": "stream",
     "text": [
      "The autoreload extension is already loaded. To reload it, use:\n",
      "  %reload_ext autoreload\n"
     ]
    }
   ],
   "source": [
    "%load_ext autoreload\n",
    "%autoreload 2"
   ]
  },
  {
   "cell_type": "code",
   "execution_count": 9,
   "metadata": {},
   "outputs": [],
   "source": [
    "from dependencies import *\n",
    "\n",
    "from experiments import run_experiment\n",
    "from objectives import *\n",
    "from datasets import *\n",
    "from utils import *\n",
    "from plotting import *"
   ]
  },
  {
   "cell_type": "code",
   "execution_count": 10,
   "metadata": {},
   "outputs": [],
   "source": [
    "# dataset options\n",
    "dataset_num = 6\n",
    "data_dir = './'\n",
    "\n",
    "is_subsample = 0\n",
    "is_kernelize = 0\n",
    "subsampled_n = -1\n",
    "\n",
    "# set the seed for reproducibility\n",
    "np.random.seed(6162647)"
   ]
  },
  {
   "cell_type": "code",
   "execution_count": 11,
   "metadata": {},
   "outputs": [],
   "source": [
    "# optimization options\n",
    "max_epochs = 20\n",
    "num_restarts = 1\n",
    "batch_size = 100\n",
    "verbose = True"
   ]
  },
  {
   "cell_type": "code",
   "execution_count": 12,
   "metadata": {},
   "outputs": [],
   "source": [
    "# choose experiment\n",
    "exp_num = 5"
   ]
  },
  {
   "cell_type": "code",
   "execution_count": 13,
   "metadata": {},
   "outputs": [
    {
     "name": "stdout",
     "output_type": "stream",
     "text": [
      "Loaded  ijcnn  dataset.\n"
     ]
    }
   ],
   "source": [
    "# problem size when generating synthetic data\n",
    "if dataset_num == -1:\n",
    "    n, d = 10000, 20\n",
    "    false_ratio = 0.25\n",
    "    margin = 1e-6\n",
    "    print(is_kernelize)\n",
    "    A, y, A_test, y_test = data_load(data_dir, dataset_num,n, d, margin, false_ratio)\n",
    "else:\n",
    "    if is_subsample == 1:\n",
    "        n = subsampled_n\n",
    "    else:\n",
    "        n = 0\n",
    "    if is_kernelize == 1:\n",
    "        d = n\n",
    "    else:\n",
    "        d = 0\n",
    "    false_ratio = 0\n",
    "    \n",
    "    A, y, A_test, y_test = data_load(data_dir, dataset_num, n,d, false_ratio, is_subsample, is_kernelize)\n",
    "    \n",
    "    if n == 0:\n",
    "        n = A.shape[0]\n",
    "    \n",
    "    \n",
    "#define the regularized losses we will use\n",
    "logistic_closure_l2 = make_closure(logistic_loss, 1/n)\n",
    "squared_hinge_closure_l2 = make_closure(squared_hinge_loss, 1/n)\n",
    "squared_closure_l2 = make_closure(squared_loss, 1/n)"
   ]
  },
  {
   "cell_type": "code",
   "execution_count": 14,
   "metadata": {
    "scrolled": true
   },
   "outputs": [],
   "source": [
    "if exp_num == 0:\n",
    "    print('Testing SVRG-BB:')\n",
    "    init_eta = 1e-3\n",
    "    \n",
    "    num_variants = 1\n",
    "    \n",
    "    results_mean = np.zeros((num_variants, max_epochs))\n",
    "    results_std = np.zeros((num_variants, max_epochs))\n",
    "\n",
    "    results2_mean = np.zeros((num_variants, max_epochs))\n",
    "    results2_std = np.zeros((num_variants, max_epochs))\n",
    "    \n",
    "    x_mean, results_mean[0, :], results_std[0, :], results2_mean[0, :], results2_std[0, :] = run_experiment(svrg_bb, logistic_closure_no_l2, A, y, A_test, y_test, init_eta, batch_size, max_epochs, num_restarts, verbose=verbose)"
   ]
  },
  {
   "cell_type": "code",
   "execution_count": 15,
   "metadata": {},
   "outputs": [],
   "source": [
    "if exp_num == 1:\n",
    "    print('Testing robustness to step-size for SVRG:')    \n",
    "    count = 0\n",
    "    labels = []\n",
    "    step_sizes = [1e-4, 1e-3, 1e-2, 1e-1, 1, 10, 100]\n",
    "    colors = ['r', 'b', 'g','k','cyan','lightgreen','gray']\n",
    "\n",
    "    num_variants = len(step_sizes)\n",
    "\n",
    "    results_mean = np.zeros((num_variants, max_epochs))\n",
    "    results_std = np.zeros((num_variants, max_epochs))\n",
    "\n",
    "    results2_mean = np.zeros((num_variants, max_epochs))\n",
    "    results2_std = np.zeros((num_variants, max_epochs))\n",
    "\n",
    "    for init_eta in step_sizes: \n",
    "        print('Begin to run SVRG with step-size = :', init_eta)\n",
    "        x_mean, results_mean[count, :], results_std[count, :], results2_mean[count, :], results2_std[count, :] =\\\n",
    "        run_experiment(method_name = 'svrg', closure = logistic_closure_l2, \\\n",
    "                       X = A, y = y, X_test = A_test, y_test = y_test, \\\n",
    "                       init_step_size = init_eta, batch_size = batch_size, max_epochs = max_epochs, \\\n",
    "                       m =0, num_restarts = num_restarts, verbose=verbose)\n",
    "        count = count + 1\n",
    "        labels.append(str(init_eta))\n",
    "    "
   ]
  },
  {
   "cell_type": "code",
   "execution_count": 16,
   "metadata": {},
   "outputs": [],
   "source": [
    "if exp_num == 2:\n",
    "    print('Testing robustness to size of inner loop for SVRG:')   \n",
    "\n",
    "    count = 0\n",
    "    labels = []\n",
    "    init_eta = 1e-2\n",
    "    inner_loop_list = [0.5 , 1, 2, 5, 10]\n",
    "\n",
    "    colors = ['r', 'b', 'g','k','cyan','lightgreen','gray']\n",
    "\n",
    "    num_variants = len(inner_loop_list)\n",
    "\n",
    "\n",
    "    results_mean = np.zeros((num_variants, max_epochs))\n",
    "    results_std = np.zeros((num_variants, max_epochs))\n",
    "\n",
    "    results2_mean = np.zeros((num_variants, max_epochs))\n",
    "    results2_std = np.zeros((num_variants, max_epochs))\n",
    "\n",
    "    for inner_loop in inner_loop_list: \n",
    "        print('Begin to run SVRG with inner loop size = :', inner_loop)\n",
    "\n",
    "        m = int(inner_loop * n)\n",
    "\n",
    "        x_mean, results_mean[count, :], results_std[count, :], results2_mean[count, :], results2_std[count, :] =\\\n",
    "        run_experiment(method_name = \"svrg\", closure = logistic_closure_l2, \\\n",
    "                       X = A, y = y, X_test = A_test, y_test = y_test, \\\n",
    "                       init_step_size = init_eta, batch_size = batch_size, max_epochs = max_epochs, \\\n",
    "                       m = m, num_restarts = num_restarts, verbose=verbose)\n",
    "        count = count + 1\n",
    "        labels.append(str(inner_loop))"
   ]
  },
  {
   "cell_type": "code",
   "execution_count": 17,
   "metadata": {},
   "outputs": [],
   "source": [
    "if exp_num == 3:\n",
    "    \n",
    "    labels = []\n",
    "    colors = ['r', 'b', 'g','k','cyan','lightgreen','gray']\n",
    "\n",
    "    step_sizes = [1e-3]\n",
    "        \n",
    "    num_variants = len(step_sizes)\n",
    "\n",
    "    grad_evals = np.zeros((num_variants, max_epochs))    \n",
    "    \n",
    "    results_mean = np.zeros((num_variants, max_epochs))\n",
    "    results_std = np.zeros((num_variants, max_epochs))\n",
    "\n",
    "    results2_mean = np.zeros((num_variants, max_epochs))\n",
    "    results2_std = np.zeros((num_variants, max_epochs))     \n",
    "        \n",
    "    for init_eta in step_sizes:     \n",
    "  \n",
    "        print('Testing SVRG-Ada with step-size:', init_eta)\n",
    "    \n",
    "        x_mean, grad_evals[0,:], results_mean[0, :], results_std[0, :], results2_mean[0, :], results2_std[0, :] =\\\n",
    "        run_experiment(method_name = \"svrg_ada\", closure = squared_closure_l2, \\\n",
    "                           X = A, y = y, X_test = A_test, y_test = y_test, \\\n",
    "                           init_step_size = init_eta, batch_size = batch_size, max_epochs = max_epochs, \\\n",
    "                           m = int(n / batch_size), num_restarts = num_restarts, verbose=verbose, linesearch_option = 0, max_sgd_warmup_epochs = 0, adaptive_termination = False) \n",
    "    \n",
    "        labels.append(['SVRG-Ada-', str(init_eta)])\n"
   ]
  },
  {
   "cell_type": "code",
   "execution_count": 18,
   "metadata": {},
   "outputs": [
    {
     "name": "stdout",
     "output_type": "stream",
     "text": [
      "Testing SVRG vs SVRG-Ada vs SVRG-BB wrt step-size robustness:\n",
      "Begin to run SVRG Ada with step-size = : 1\n",
      "Running Experiment:\n",
      "Epoch.: 0, Grad. norm: 1.60e-01, Func. value: 6.931472e-01, Num gradient evaluations: 0\n"
     ]
    },
    {
     "ename": "KeyboardInterrupt",
     "evalue": "",
     "output_type": "error",
     "traceback": [
      "\u001b[0;31m---------------------------------------------------------------------------\u001b[0m",
      "\u001b[0;31mKeyboardInterrupt\u001b[0m                         Traceback (most recent call last)",
      "\u001b[0;32m<ipython-input-18-cc9be38c988d>\u001b[0m in \u001b[0;36m<module>\u001b[0;34m\u001b[0m\n\u001b[1;32m     48\u001b[0m                        \u001b[0minit_step_size\u001b[0m \u001b[0;34m=\u001b[0m \u001b[0minit_eta\u001b[0m\u001b[0;34m,\u001b[0m \u001b[0mbatch_size\u001b[0m \u001b[0;34m=\u001b[0m \u001b[0mbatch_size\u001b[0m\u001b[0;34m,\u001b[0m \u001b[0mmax_epochs\u001b[0m \u001b[0;34m=\u001b[0m \u001b[0mmax_epochs\u001b[0m\u001b[0;34m,\u001b[0m\u001b[0;31m \u001b[0m\u001b[0;31m\\\u001b[0m\u001b[0;34m\u001b[0m\u001b[0;34m\u001b[0m\u001b[0m\n\u001b[1;32m     49\u001b[0m                        \u001b[0mm\u001b[0m \u001b[0;34m=\u001b[0m \u001b[0mint\u001b[0m\u001b[0;34m(\u001b[0m\u001b[0mn\u001b[0m \u001b[0;34m/\u001b[0m \u001b[0;36m2\u001b[0m \u001b[0;34m*\u001b[0m \u001b[0mbatch_size\u001b[0m\u001b[0;34m)\u001b[0m\u001b[0;34m,\u001b[0m \u001b[0mnum_restarts\u001b[0m \u001b[0;34m=\u001b[0m \u001b[0mnum_restarts\u001b[0m\u001b[0;34m,\u001b[0m \u001b[0mverbose\u001b[0m\u001b[0;34m=\u001b[0m\u001b[0mverbose\u001b[0m\u001b[0;34m,\u001b[0m \u001b[0mlinesearch_option\u001b[0m \u001b[0;34m=\u001b[0m \u001b[0;36m0\u001b[0m\u001b[0;34m,\u001b[0m\u001b[0;34m\u001b[0m\u001b[0;34m\u001b[0m\u001b[0m\n\u001b[0;32m---> 50\u001b[0;31m                        max_sgd_warmup_epochs = 0, adaptive_termination = False)\n\u001b[0m\u001b[1;32m     51\u001b[0m         \u001b[0mcount\u001b[0m \u001b[0;34m=\u001b[0m \u001b[0mcount\u001b[0m \u001b[0;34m+\u001b[0m \u001b[0;36m1\u001b[0m\u001b[0;34m\u001b[0m\u001b[0;34m\u001b[0m\u001b[0m\n\u001b[1;32m     52\u001b[0m         \u001b[0mlabels\u001b[0m\u001b[0;34m.\u001b[0m\u001b[0mappend\u001b[0m\u001b[0;34m(\u001b[0m\u001b[0;34m'Ada'\u001b[0m \u001b[0;34m+\u001b[0m \u001b[0mstr\u001b[0m\u001b[0;34m(\u001b[0m\u001b[0minit_eta\u001b[0m\u001b[0;34m)\u001b[0m\u001b[0;34m)\u001b[0m\u001b[0;34m\u001b[0m\u001b[0;34m\u001b[0m\u001b[0m\n",
      "\u001b[0;32m~/Dropbox/Codes/svrg/svrg/numpy_code/experiments.py\u001b[0m in \u001b[0;36mrun_experiment\u001b[0;34m(method_name, closure, X, y, X_test, y_test, batch_size, max_epochs, m, num_restarts, verbose, seed, **kwargs)\u001b[0m\n\u001b[1;32m     88\u001b[0m                                                    \u001b[0mlinesearch_option\u001b[0m \u001b[0;34m=\u001b[0m \u001b[0mlinesearch_option\u001b[0m\u001b[0;34m,\u001b[0m\u001b[0;34m\u001b[0m\u001b[0;34m\u001b[0m\u001b[0m\n\u001b[1;32m     89\u001b[0m                                                    \u001b[0mmax_sgd_warmup_epochs\u001b[0m \u001b[0;34m=\u001b[0m \u001b[0mmax_sgd_warmup_epochs\u001b[0m\u001b[0;34m,\u001b[0m\u001b[0;34m\u001b[0m\u001b[0;34m\u001b[0m\u001b[0m\n\u001b[0;32m---> 90\u001b[0;31m                                                    adaptive_termination = adaptive_termination)\n\u001b[0m\u001b[1;32m     91\u001b[0m     \u001b[0;32melse\u001b[0m\u001b[0;34m:\u001b[0m\u001b[0;34m\u001b[0m\u001b[0;34m\u001b[0m\u001b[0m\n\u001b[1;32m     92\u001b[0m         \u001b[0mprint\u001b[0m\u001b[0;34m(\u001b[0m\u001b[0;34m'Method does not exist'\u001b[0m\u001b[0;34m)\u001b[0m\u001b[0;34m\u001b[0m\u001b[0;34m\u001b[0m\u001b[0m\n",
      "\u001b[0;32m~/Dropbox/Codes/svrg/svrg/numpy_code/optimizers/svrg_ada.py\u001b[0m in \u001b[0;36msvrg_ada\u001b[0;34m(closure, batch_size, D, labels, init_step_size, n, d, max_epoch, m, x0, verbose, linesearch_option, max_sgd_warmup_epochs, adaptive_termination)\u001b[0m\n\u001b[1;32m    160\u001b[0m \u001b[0;34m\u001b[0m\u001b[0m\n\u001b[1;32m    161\u001b[0m         \u001b[0;31m# Create Minibatches:\u001b[0m\u001b[0;34m\u001b[0m\u001b[0;34m\u001b[0m\u001b[0;34m\u001b[0m\u001b[0m\n\u001b[0;32m--> 162\u001b[0;31m         \u001b[0mminibatches\u001b[0m \u001b[0;34m=\u001b[0m \u001b[0mmake_minibatches\u001b[0m\u001b[0;34m(\u001b[0m\u001b[0mn\u001b[0m\u001b[0;34m,\u001b[0m \u001b[0mm\u001b[0m\u001b[0;34m,\u001b[0m \u001b[0mbatch_size\u001b[0m\u001b[0;34m)\u001b[0m\u001b[0;34m\u001b[0m\u001b[0;34m\u001b[0m\u001b[0m\n\u001b[0m\u001b[1;32m    163\u001b[0m         \u001b[0;32mfor\u001b[0m \u001b[0mi\u001b[0m \u001b[0;32min\u001b[0m \u001b[0mrange\u001b[0m\u001b[0;34m(\u001b[0m\u001b[0mm\u001b[0m\u001b[0;34m)\u001b[0m\u001b[0;34m:\u001b[0m\u001b[0;34m\u001b[0m\u001b[0;34m\u001b[0m\u001b[0m\n\u001b[1;32m    164\u001b[0m             \u001b[0;31m# get the minibatch for this iteration\u001b[0m\u001b[0;34m\u001b[0m\u001b[0;34m\u001b[0m\u001b[0;34m\u001b[0m\u001b[0m\n",
      "\u001b[0;32m~/Dropbox/Codes/svrg/svrg/numpy_code/utils.py\u001b[0m in \u001b[0;36mmake_minibatches\u001b[0;34m(n, m, minibatch_size)\u001b[0m\n\u001b[1;32m     13\u001b[0m     \u001b[0mbatches\u001b[0m \u001b[0;34m=\u001b[0m \u001b[0;34m[\u001b[0m\u001b[0;34m]\u001b[0m\u001b[0;34m\u001b[0m\u001b[0;34m\u001b[0m\u001b[0m\n\u001b[1;32m     14\u001b[0m     \u001b[0;32mfor\u001b[0m \u001b[0mi\u001b[0m \u001b[0;32min\u001b[0m \u001b[0mrange\u001b[0m\u001b[0;34m(\u001b[0m\u001b[0mk\u001b[0m\u001b[0;34m)\u001b[0m\u001b[0;34m:\u001b[0m\u001b[0;34m\u001b[0m\u001b[0;34m\u001b[0m\u001b[0m\n\u001b[0;32m---> 15\u001b[0;31m         \u001b[0mbatches\u001b[0m \u001b[0;34m+=\u001b[0m \u001b[0mminibatch_data\u001b[0m\u001b[0;34m(\u001b[0m\u001b[0mn\u001b[0m\u001b[0;34m,\u001b[0m \u001b[0mminibatch_size\u001b[0m\u001b[0;34m)\u001b[0m\u001b[0;34m\u001b[0m\u001b[0;34m\u001b[0m\u001b[0m\n\u001b[0m\u001b[1;32m     16\u001b[0m \u001b[0;34m\u001b[0m\u001b[0m\n\u001b[1;32m     17\u001b[0m     \u001b[0;32mreturn\u001b[0m \u001b[0mbatches\u001b[0m\u001b[0;34m\u001b[0m\u001b[0;34m\u001b[0m\u001b[0m\n",
      "\u001b[0;32m~/Dropbox/Codes/svrg/svrg/numpy_code/utils.py\u001b[0m in \u001b[0;36mminibatch_data\u001b[0;34m(n, batch_size)\u001b[0m\n\u001b[1;32m     36\u001b[0m \u001b[0;34m\u001b[0m\u001b[0m\n\u001b[1;32m     37\u001b[0m         \u001b[0;31m# create a minibatch\u001b[0m\u001b[0;34m\u001b[0m\u001b[0;34m\u001b[0m\u001b[0;34m\u001b[0m\u001b[0m\n\u001b[0;32m---> 38\u001b[0;31m         \u001b[0mbatches\u001b[0m\u001b[0;34m.\u001b[0m\u001b[0mappend\u001b[0m\u001b[0;34m(\u001b[0m\u001b[0mindices\u001b[0m\u001b[0;34m[\u001b[0m\u001b[0mstart_index\u001b[0m\u001b[0;34m:\u001b[0m\u001b[0mstop_index\u001b[0m\u001b[0;34m]\u001b[0m\u001b[0;34m)\u001b[0m\u001b[0;34m\u001b[0m\u001b[0;34m\u001b[0m\u001b[0m\n\u001b[0m\u001b[1;32m     39\u001b[0m \u001b[0;34m\u001b[0m\u001b[0m\n\u001b[1;32m     40\u001b[0m     \u001b[0;31m# generate a final, smaller batch if the batch_size doesn't divide evenly into n\u001b[0m\u001b[0;34m\u001b[0m\u001b[0;34m\u001b[0m\u001b[0;34m\u001b[0m\u001b[0m\n",
      "\u001b[0;31mKeyboardInterrupt\u001b[0m: "
     ]
    }
   ],
   "source": [
    "if exp_num == 4:\n",
    "    print('Testing SVRG vs SVRG-Ada vs SVRG-BB wrt step-size robustness:')\n",
    "\n",
    "    count = 0\n",
    "    labels = []\n",
    "    step_sizes = [1]\n",
    "    colors = ['r', 'b', 'g','r','b','g','r', 'b', 'g']\n",
    "\n",
    "    num_variants = 3 * len(step_sizes)\n",
    "    \n",
    "    grad_evals = np.zeros((num_variants, max_epochs))\n",
    "    \n",
    "    results_mean = np.zeros((num_variants, max_epochs))\n",
    "    results_std = np.zeros((num_variants, max_epochs))\n",
    "\n",
    "    results2_mean = np.zeros((num_variants, max_epochs))\n",
    "    results2_std = np.zeros((num_variants, max_epochs))\n",
    "    \n",
    "    closure = logistic_closure_l2\n",
    "\n",
    "    for init_eta in step_sizes: \n",
    "#         print('Begin to run SVRG with step-size = :', init_eta)\n",
    "\n",
    "#         # SVRG\n",
    "#         x_mean, grad_evals[count,:], results_mean[count, :], results_std[count, :], results2_mean[count, :], results2_std[count, :] =\\\n",
    "#         run_experiment(method_name = \"svrg\", closure = closure, \\\n",
    "#                        X = A, y = y, X_test = A_test, y_test = y_test, \\\n",
    "#                        init_step_size = init_eta, batch_size = batch_size, max_epochs = max_epochs, \\\n",
    "#                        m = int(n / batch_size), num_restarts = num_restarts, verbose=verbose, adaptive_termination = False)\n",
    "#         count = count + 1\n",
    "#         labels.append(str(init_eta))\n",
    "        \n",
    "#         print('Begin to run SVRG BB with step-size = :', init_eta)        \n",
    "#         # SVRG BB\n",
    "#         x_mean, grad_evals[count,:], results_mean[count, :], results_std[count, :], results2_mean[count, :], results2_std[count, :] =\\\n",
    "#         run_experiment(method_name = \"svrg_bb\", closure = closure, \\\n",
    "#                        X = A, y = y, X_test = A_test, y_test = y_test, \\\n",
    "#                        init_step_size = init_eta, batch_size = batch_size, max_epochs = max_epochs, \\\n",
    "#                        m = int(n / batch_size), num_restarts = num_restarts, verbose=verbose, adaptive_termination = False)\n",
    "#         count = count + 1\n",
    "#         labels.append('BB' + str(init_eta))\n",
    "        \n",
    "        print('Begin to run SVRG Ada with step-size = :', init_eta)\n",
    "        # Ada SVRG\n",
    "        x_mean, grad_evals[count,:], results_mean[count, :], results_std[count, :], results2_mean[count, :], results2_std[count, :] =\\\n",
    "        run_experiment(method_name = \"svrg_ada\", closure = closure, \\\n",
    "                       X = A, y = y, X_test = A_test, y_test = y_test, \\\n",
    "                       init_step_size = init_eta, batch_size = batch_size, max_epochs = max_epochs, \\\n",
    "                       m = int(n / 2 * batch_size), num_restarts = num_restarts, verbose=verbose, linesearch_option = 0, \n",
    "                       max_sgd_warmup_epochs = 0, adaptive_termination = False)\n",
    "        count = count + 1\n",
    "        labels.append('Ada' + str(init_eta))\n",
    "    "
   ]
  },
  {
   "cell_type": "code",
   "execution_count": null,
   "metadata": {},
   "outputs": [],
   "source": [
    "if exp_num == 5:\n",
    "    print('Testing SVRG vs SVRG with diagnostic')\n",
    "\n",
    "    count = 0\n",
    "    labels = []\n",
    "    step_sizes = [1e-1]\n",
    "    colors = ['r', 'b', 'g','r','b','g','r', 'b', 'g']\n",
    "\n",
    "    num_variants = 3 * len(step_sizes)\n",
    "    \n",
    "    grad_evals = np.zeros((num_variants, max_epochs))\n",
    "    \n",
    "    results_mean = np.zeros((num_variants, max_epochs))\n",
    "    results_std = np.zeros((num_variants, max_epochs))\n",
    "\n",
    "    results2_mean = np.zeros((num_variants, max_epochs))\n",
    "    results2_std = np.zeros((num_variants, max_epochs))\n",
    "    \n",
    "    closure = logistic_closure_l2\n",
    "\n",
    "    for init_eta in step_sizes: \n",
    "        print('Begin to run SVRG with step-size = :', init_eta)\n",
    "\n",
    "        # SVRG\n",
    "        x_mean, grad_evals[count,:], results_mean[count, :], results_std[count, :], results2_mean[count, :], results2_std[count, :] =\\\n",
    "        run_experiment(method_name = \"svrg\", closure = closure, \\\n",
    "                       X = A, y = y, X_test = A_test, y_test = y_test, \\\n",
    "                       init_step_size = init_eta, batch_size = batch_size, max_epochs = max_epochs, \\\n",
    "                       m = int(n / batch_size), num_restarts = num_restarts, verbose=verbose, adaptive_termination = False)\n",
    "        count = count + 1\n",
    "        labels.append(str(init_eta))\n",
    "        \n",
    "        print('Begin to run SVRG with step-size = :', init_eta)\n",
    "\n",
    "        # SVRG\n",
    "        x_mean, grad_evals[count,:], results_mean[count, :], results_std[count, :], results2_mean[count, :], results2_std[count, :] =\\\n",
    "        run_experiment(method_name = \"svrg\", closure = closure, \\\n",
    "                       X = A, y = y, X_test = A_test, y_test = y_test, \\\n",
    "                       init_step_size = init_eta, batch_size = batch_size, max_epochs = max_epochs, \\\n",
    "                       m = int(n / batch_size), num_restarts = num_restarts, verbose=verbose, adaptive_termination = True)\n",
    "        count = count + 1\n",
    "        labels.append('Diagnostic_' + str(init_eta))\n",
    "    "
   ]
  },
  {
   "cell_type": "code",
   "execution_count": null,
   "metadata": {},
   "outputs": [],
   "source": [
    "colors = ['r', 'b', 'g','r','b','g','r', 'b', 'g']\n",
    "fig = plot_shaded_error_bars(grad_evals = grad_evals, results_mean = results_mean, results_std = results_std, ylabel = 'Loss', max_epochs = max_epochs, colors = colors, labels = labels)\n",
    "plt.show()\n",
    "\n",
    "fig = plot_shaded_error_bars(grad_evals = grad_evals, results_mean = results2_mean, results_std = results2_std, ylabel = 'Grad_norm', max_epochs = max_epochs, colors = colors, labels = labels)\n",
    "plt.show()\n",
    "\n",
    "\n"
   ]
  }
 ],
 "metadata": {
  "kernelspec": {
   "display_name": "Python 3",
   "language": "python",
   "name": "python3"
  },
  "language_info": {
   "codemirror_mode": {
    "name": "ipython",
    "version": 3
   },
   "file_extension": ".py",
   "mimetype": "text/x-python",
   "name": "python",
   "nbconvert_exporter": "python",
   "pygments_lexer": "ipython3",
   "version": "3.7.5"
  }
 },
 "nbformat": 4,
 "nbformat_minor": 4
}
