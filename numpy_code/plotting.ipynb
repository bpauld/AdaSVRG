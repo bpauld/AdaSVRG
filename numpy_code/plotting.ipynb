{
 "cells": [
  {
   "cell_type": "code",
   "execution_count": 11,
   "metadata": {},
   "outputs": [],
   "source": [
    "from haven import haven_jupyter as hj\n",
    "from haven import haven_results as hr\n",
    "from haven import haven_utils as hu\n",
    "\n",
    "# path to where the experiments got saved\n",
    "savedir_base = \"./results\"\n",
    "exp_config_fname = './exp_configs.py'\n",
    "\n",
    "exp_list = hu.load_py(exp_config_fname).EXP_GROUPS['exp3']\n",
    "\n",
    "filterby_list = [    \n",
    "    {'opt': {'name': 'svrg_bb'}},     \n",
    "#      {'opt': {'name': 'svrg_cb'}}, \n",
    "#      {'opt': {'name': 'svrg_ada'}}         \n",
    "    \n",
    "]\n",
    "# filterby_list = [{'loss_func': 'squared_hinge_loss'}]\n",
    "\n",
    "# get experiments\n",
    "rm = hr.ResultManager(exp_list=exp_list, \n",
    "                      filterby_list=filterby_list,\n",
    "                      savedir_base=savedir_base, \n",
    "                      verbose=0, \n",
    "                      score_list_name='score_list.pkl'                      \n",
    "                     )\n",
    "\n",
    "# print(hr.filter_exp_list(rm.exp_list, filterby_list=filterby_list, savedir_base=savedir_base))"
   ]
  },
  {
   "cell_type": "code",
   "execution_count": 12,
   "metadata": {},
   "outputs": [
    {
     "data": {
      "text/plain": [
       "[]"
      ]
     },
     "execution_count": 12,
     "metadata": {},
     "output_type": "execute_result"
    },
    {
     "data": {
      "text/plain": [
       "<Figure size 432x288 with 0 Axes>"
      ]
     },
     "metadata": {},
     "output_type": "display_data"
    }
   ],
   "source": [
    "rm.get_plot_all(\n",
    "    avg_across='runs',\n",
    "    order='groups_by_metrics',\n",
    "                y_metric_list =  ['grad_norm'], \n",
    "                x_metric='n_grad_evals',\n",
    "                legend_list=['opt.name', 'opt.init_step_size'], \n",
    "                title_list = ['dataset', 'loss_func'], \n",
    "                groupby_list = ['loss_func'],\n",
    "                log_metric_list = ['grad_norm'], \n",
    "                \n",
    "\n",
    "                 legend_fontsize=16,\n",
    "                  x_fontsize=16,\n",
    "                  y_fontsize=16,\n",
    "                  xtick_fontsize=16,\n",
    "                  ytick_fontsize=16,\n",
    "                  title_fontsize=20,\n",
    "    \n",
    "\n",
    "    map_ylabel_list=[{'train_loss':'Gradient Norm'}, \n",
    "                    ],   \n",
    "    map_xlabel_list=[{'n_grad_evals':'Num grad evals'}],\n",
    "                figsize=(15,5),\n",
    "    plot_confidence=True,\n",
    "#     legend_kwargs={'bbox_to_anchor':[-.8, -0.26], 'ncol':7, 'loc':'center'},\n",
    "#     savedir_plots='/home/issam/Research_Ground/sls_private/results/fig_deep'\n",
    "            )"
   ]
  },
  {
   "cell_type": "markdown",
   "metadata": {},
   "source": [
    "## "
   ]
  }
 ],
 "metadata": {
  "kernelspec": {
   "display_name": "Python 3",
   "language": "python",
   "name": "python3"
  },
  "language_info": {
   "codemirror_mode": {
    "name": "ipython",
    "version": 3
   },
   "file_extension": ".py",
   "mimetype": "text/x-python",
   "name": "python",
   "nbconvert_exporter": "python",
   "pygments_lexer": "ipython3",
   "version": "3.7.6"
  }
 },
 "nbformat": 4,
 "nbformat_minor": 2
}
